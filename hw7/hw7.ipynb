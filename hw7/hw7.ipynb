{
 "cells": [
  {
   "cell_type": "code",
   "execution_count": 4,
   "metadata": {},
   "outputs": [],
   "source": [
    "import pandas as pd\n",
    "import sys\n",
    "import numpy as np"
   ]
  },
  {
   "cell_type": "code",
   "execution_count": 13,
   "metadata": {},
   "outputs": [
    {
     "name": "stdout",
     "output_type": "stream",
     "text": [
      "0    a\n",
      "1    b\n",
      "2    c\n",
      "3    d\n",
      "4    e\n",
      "dtype: object\n",
      " \n",
      "0    0\n",
      "1    1\n",
      "2    2\n",
      "3    3\n",
      "4    4\n",
      "dtype: int32\n",
      " \n",
      "a    0\n",
      "b    1\n",
      "c    2\n",
      "d    3\n",
      "e    4\n",
      "dtype: int64\n",
      " \n"
     ]
    }
   ],
   "source": [
    "# 2. Создать объект pandas Series из листа, объекта NumPy, и словаря\n",
    "src_list = list('abcde')\n",
    "src_arr = np.arange(5)\n",
    "src_dict = dict(zip(src_list, src_arr))\n",
    " \n",
    "s1 = pd.Series(src_list)\n",
    "s2 = pd.Series(src_arr)\n",
    "s3 = pd.Series(src_dict)\n",
    " \n",
    "print(s1)\n",
    "print(\" \")\n",
    "print(s2)\n",
    "print(\" \")\n",
    "print(s3)\n",
    "print(\" \")\n"
   ]
  },
  {
   "cell_type": "code",
   "execution_count": 14,
   "metadata": {},
   "outputs": [
    {
     "name": "stdout",
     "output_type": "stream",
     "text": [
      "       0\n",
      "a    one\n",
      "b    two\n",
      "c  three\n"
     ]
    }
   ],
   "source": [
    "# 3. Преобразовать объект Series в DataFrame\n",
    " \n",
    "# создаем объект Series\n",
    "s = pd.Series({'a': 'one', 'b': 'two', 'c': 'three'})\n",
    " \n",
    "# преобразование в DataFrame\n",
    "s = s.to_frame()\n",
    " \n",
    "print(s)"
   ]
  },
  {
   "cell_type": "code",
   "execution_count": 10,
   "metadata": {},
   "outputs": [],
   "source": [
    "# создать объект Series\n",
    "population_dict = {'California': 38332521,\n",
    "                   'Texas': 26448193,\n",
    "                   'New York': 19651127,\n",
    "                   'Florida': 19552860,\n",
    "                   'Illinois': 12882135}\n",
    "population = pd.Series(population_dict)"
   ]
  },
  {
   "cell_type": "code",
   "execution_count": 11,
   "metadata": {},
   "outputs": [
    {
     "name": "stdout",
     "output_type": "stream",
     "text": [
      "            population\n",
      "California    38332521\n",
      "Texas         26448193\n",
      "New York      19651127\n",
      "Florida       19552860\n",
      "Illinois      12882135\n"
     ]
    }
   ],
   "source": [
    "# преобразовать в DataFrame\n",
    "population_dict = {'California': 38332521,\n",
    "                   'Texas': 26448193,\n",
    "                   'New York': 19651127,\n",
    "                   'Florida': 19552860,\n",
    "                   'Illinois': 12882135}\n",
    "population = pd.Series(population_dict)\n",
    "df = pd.DataFrame(population, columns=['population'])\n",
    "print(df)"
   ]
  },
  {
   "cell_type": "code",
   "execution_count": 15,
   "metadata": {},
   "outputs": [
    {
     "name": "stdout",
     "output_type": "stream",
     "text": [
      "вариант 1\n",
      "            population    area\n",
      "California    38332521  423967\n",
      "Texas         26448193  695662\n",
      "New York      19651127  141297\n",
      "Florida       19552860  170312\n",
      "Illinois      12882135  149995\n",
      " \n",
      "вариант 2\n",
      "                   0       1\n",
      "California  38332521  423967\n",
      "Texas       26448193  695662\n",
      "New York    19651127  141297\n",
      "Florida     19552860  170312\n",
      "Illinois    12882135  149995\n"
     ]
    }
   ],
   "source": [
    "# объединить несколько объектов Series в Dataframe\n",
    "# Словарь площадь штатов\n",
    "area_dict = {'California': 423967,\n",
    "             'Texas': 695662,\n",
    "             'New York': 141297,\n",
    "             'Florida': 170312,\n",
    "             'Illinois': 149995}\n",
    "area = pd.Series(area_dict)\n",
    "# Словарь население\n",
    "population_dict = {'California': 38332521,\n",
    "                   'Texas': 26448193,\n",
    "                   'New York': 19651127,\n",
    "                   'Florida': 19552860,\n",
    "                   'Illinois': 12882135}\n",
    "population = pd.Series(population_dict)\n",
    "# Вариант 1\n",
    "print('вариант 1')\n",
    "states = pd.DataFrame({'population': population, 'area': area})\n",
    "print(states)\n",
    "print(\" \")\n",
    "# Вариант 2\n",
    "df1 = pd.concat([population, area], axis=1)\n",
    "print('вариант 2')\n",
    "print(df1)"
   ]
  },
  {
   "cell_type": "code",
   "execution_count": 16,
   "metadata": {},
   "outputs": [
    {
     "name": "stdout",
     "output_type": "stream",
     "text": [
      "a    1\n",
      "b    2\n",
      "c    3\n",
      "Name: qwerty, dtype: int64\n"
     ]
    }
   ],
   "source": [
    "# 5. Присвоить имя индексу объекта Series\n",
    " \n",
    "s = pd.Series({'a': 1, 'b': 2, 'c': 3})\n",
    " \n",
    "s.name = 'qwerty'\n",
    " \n",
    "print(s)"
   ]
  },
  {
   "cell_type": "code",
   "execution_count": 18,
   "metadata": {},
   "outputs": [
    {
     "name": "stdout",
     "output_type": "stream",
     "text": [
      "0     1\n",
      "2     3\n",
      "3    98\n",
      "dtype: int64\n"
     ]
    }
   ],
   "source": [
    "# 6. Получить элементы объекта Series A, которых нет в объекте Series B\n",
    " \n",
    "s1 = pd.Series([1, 6, 3, 98, 5])\n",
    "s2 = pd.Series([4, 5, 6, 7, 8])\n",
    " \n",
    "# возвращает вместе с индексами\n",
    "ans = s1[~s1.isin(s2)]\n",
    " \n",
    "# возвращает значения\n",
    "ans2 = np.setdiff1d(s1, s2, assume_unique=False)\n",
    "print(ans)"
   ]
  },
  {
   "cell_type": "code",
   "execution_count": 20,
   "metadata": {},
   "outputs": [
    {
     "name": "stdout",
     "output_type": "stream",
     "text": [
      "0    1\n",
      "1    2\n",
      "2    3\n",
      "5    6\n",
      "6    7\n",
      "7    8\n",
      "dtype: int64\n"
     ]
    }
   ],
   "source": [
    "# 7. Получить не пересекающиеся элементы в двух объектах Series\n",
    " \n",
    "s1 = pd.Series([1, 2, 3, 4, 5])\n",
    "s2 = pd.Series([4, 5, 6, 7, 8])\n",
    " \n",
    "# возвращает вместе с индексами\n",
    " \n",
    "# получаем объединенный Series без повтороений\n",
    "s_union = pd.Series(np.union1d(s1, s2))\n",
    "# получаем пересекающиеся данные\n",
    "s_intersect = pd.Series(np.intersect1d(s1, s2))\n",
    "# отбираем все данные, кроме пересекающихся\n",
    "ans = s_union[~s_union.isin(s_intersect)]\n",
    " \n",
    "# возвращает значения\n",
    "ans2 = np.setxor1d(s1, s2, assume_unique=False)\n",
    " \n",
    "print(ans)"
   ]
  },
  {
   "cell_type": "code",
   "execution_count": null,
   "metadata": {},
   "outputs": [],
   "source": []
  }
 ],
 "metadata": {
  "kernelspec": {
   "display_name": "Python 3",
   "language": "python",
   "name": "python3"
  },
  "language_info": {
   "codemirror_mode": {
    "name": "ipython",
    "version": 3
   },
   "file_extension": ".py",
   "mimetype": "text/x-python",
   "name": "python",
   "nbconvert_exporter": "python",
   "pygments_lexer": "ipython3",
   "version": "3.7.0"
  }
 },
 "nbformat": 4,
 "nbformat_minor": 2
}
