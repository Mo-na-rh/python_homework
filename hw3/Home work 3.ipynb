{
 "cells": [
  {
   "cell_type": "code",
   "execution_count": 1,
   "metadata": {},
   "outputs": [],
   "source": [
    "# Импортировать NumPy под именем np\n",
    "import numpy as np"
   ]
  },
  {
   "cell_type": "code",
   "execution_count": 29,
   "metadata": {},
   "outputs": [
    {
     "name": "stdout",
     "output_type": "stream",
     "text": [
      "1.17.2\n",
      "blas_mkl_info:\n",
      "  NOT AVAILABLE\n",
      "blis_info:\n",
      "  NOT AVAILABLE\n",
      "openblas_info:\n",
      "    library_dirs = ['C:\\\\projects\\\\numpy-wheels\\\\numpy\\\\build\\\\openblas']\n",
      "    libraries = ['openblas']\n",
      "    language = f77\n",
      "    define_macros = [('HAVE_CBLAS', None)]\n",
      "blas_opt_info:\n",
      "    library_dirs = ['C:\\\\projects\\\\numpy-wheels\\\\numpy\\\\build\\\\openblas']\n",
      "    libraries = ['openblas']\n",
      "    language = f77\n",
      "    define_macros = [('HAVE_CBLAS', None)]\n",
      "lapack_mkl_info:\n",
      "  NOT AVAILABLE\n",
      "openblas_lapack_info:\n",
      "    library_dirs = ['C:\\\\projects\\\\numpy-wheels\\\\numpy\\\\build\\\\openblas']\n",
      "    libraries = ['openblas']\n",
      "    language = f77\n",
      "    define_macros = [('HAVE_CBLAS', None)]\n",
      "lapack_opt_info:\n",
      "    library_dirs = ['C:\\\\projects\\\\numpy-wheels\\\\numpy\\\\build\\\\openblas']\n",
      "    libraries = ['openblas']\n",
      "    language = f77\n",
      "    define_macros = [('HAVE_CBLAS', None)]\n"
     ]
    }
   ],
   "source": [
    "# Напечатать версию и конфигурацию\n",
    "print(np.__version__)\n",
    "np.show_config()"
   ]
  },
  {
   "cell_type": "code",
   "execution_count": 4,
   "metadata": {},
   "outputs": [
    {
     "name": "stdout",
     "output_type": "stream",
     "text": [
      "[0. 0. 0. 0. 0. 0. 0. 0. 0. 0.]\n"
     ]
    }
   ],
   "source": [
    "# Создать вектор (одномерный массив) размера 10, заполненный нулями\n",
    "Z = np.zeros(10)\n",
    "print(Z)"
   ]
  },
  {
   "cell_type": "code",
   "execution_count": 28,
   "metadata": {},
   "outputs": [
    {
     "name": "stdout",
     "output_type": "stream",
     "text": [
      "[1. 1. 1. 1. 1. 1. 1. 1. 1. 1.]\n"
     ]
    }
   ],
   "source": [
    "# Создать вектор размера 10, заполненный единицами\n",
    "vec = np.ones(10)\n",
    "print(vec)"
   ]
  },
  {
   "cell_type": "code",
   "execution_count": 27,
   "metadata": {},
   "outputs": [
    {
     "name": "stdout",
     "output_type": "stream",
     "text": [
      "[2.5 2.5 2.5 2.5 2.5 2.5 2.5 2.5 2.5 2.5]\n"
     ]
    }
   ],
   "source": [
    "# Создать вектор размера 10, заполненный числом 2.5\n",
    "vec = np.full(10, 2.5)\n",
    "print(vec)"
   ]
  },
  {
   "cell_type": "code",
   "execution_count": null,
   "metadata": {},
   "outputs": [],
   "source": [
    "# Как получить документацию о функции numpy.add из командной строки?\n",
    "# python3 -c \"import numpy; numpy.info(numpy.add)\" "
   ]
  },
  {
   "cell_type": "code",
   "execution_count": null,
   "metadata": {},
   "outputs": [],
   "source": [
    "# Создать вектор размера 10, заполненный нулями, но пятый элемент равен 1\n",
    "vec = np.zeros(10)\n",
    "vec[4] = 1\n",
    "print(vec)"
   ]
  },
  {
   "cell_type": "code",
   "execution_count": 26,
   "metadata": {},
   "outputs": [
    {
     "name": "stdout",
     "output_type": "stream",
     "text": [
      "[10 11 12 13 14 15 16 17 18 19 20 21 22 23 24 25 26 27 28 29 30 31 32 33\n",
      " 34 35 36 37 38 39 40 41 42 43 44 45 46 47 48 49]\n"
     ]
    }
   ],
   "source": [
    "# Создать вектор со значениями от 10 до 49\n",
    "vec = np.arange(10,50)\n",
    "print(vec)"
   ]
  },
  {
   "cell_type": "code",
   "execution_count": 25,
   "metadata": {},
   "outputs": [
    {
     "name": "stdout",
     "output_type": "stream",
     "text": [
      "[ 0  1  2  3  4  5  6  7  8  9 10 11 12 13 14 15 16 17 18 19 20 21 22 23\n",
      " 24 25 26 27 28 29 30 31 32 33 34 35 36 37 38 39 40 41 42 43 44 45 46 47\n",
      " 48 49]\n",
      " \n",
      "[49 48 47 46 45 44 43 42 41 40 39 38 37 36 35 34 33 32 31 30 29 28 27 26\n",
      " 25 24 23 22 21 20 19 18 17 16 15 14 13 12 11 10  9  8  7  6  5  4  3  2\n",
      "  1  0]\n"
     ]
    }
   ],
   "source": [
    "# Развернуть вектор (первый становится последним)\n",
    "vec = np.arange(50)\n",
    "print(vec)\n",
    "print(\" \")\n",
    "vec = vec[::-1]\n",
    "print(vec)"
   ]
  },
  {
   "cell_type": "code",
   "execution_count": 9,
   "metadata": {},
   "outputs": [
    {
     "name": "stdout",
     "output_type": "stream",
     "text": [
      "[[0 1 2]\n",
      " [3 4 5]\n",
      " [6 7 8]]\n"
     ]
    }
   ],
   "source": [
    "# Создать матрицу (двумерный массив) 3x3 со значениями от 0 до 8\n",
    "ar = np.arange(9).reshape(3,3)\n",
    "print(ar)"
   ]
  },
  {
   "cell_type": "code",
   "execution_count": 10,
   "metadata": {},
   "outputs": [
    {
     "name": "stdout",
     "output_type": "stream",
     "text": [
      "(array([0, 1, 4], dtype=int64),)\n"
     ]
    }
   ],
   "source": [
    "# Найти индексы ненулевых элементов в [1,2,0,0,4,0]\n",
    "nz = np.nonzero([1,2,0,0,4,0])\n",
    "print(nz)"
   ]
  },
  {
   "cell_type": "code",
   "execution_count": 11,
   "metadata": {},
   "outputs": [
    {
     "name": "stdout",
     "output_type": "stream",
     "text": [
      "[[1. 0. 0.]\n",
      " [0. 1. 0.]\n",
      " [0. 0. 1.]]\n"
     ]
    }
   ],
   "source": [
    "# Создать 3x3 единичную матрицу\n",
    "ar = np.eye(3)\n",
    "print(ar)"
   ]
  },
  {
   "cell_type": "code",
   "execution_count": 13,
   "metadata": {},
   "outputs": [
    {
     "name": "stdout",
     "output_type": "stream",
     "text": [
      "[[[0.59545656 0.17439957 0.64507793]\n",
      "  [0.76593849 0.45201436 0.86842651]\n",
      "  [0.80665712 0.72933956 0.14090023]]\n",
      "\n",
      " [[0.06727862 0.70179144 0.68318069]\n",
      "  [0.41686022 0.01069798 0.86969996]\n",
      "  [0.99106557 0.41297434 0.74222931]]\n",
      "\n",
      " [[0.66799152 0.81144257 0.15313797]\n",
      "  [0.57038636 0.89253422 0.64782319]\n",
      "  [0.73879199 0.90256211 0.97267585]]]\n"
     ]
    }
   ],
   "source": [
    "# Создать массив 3x3x3 со случайными значениями\n",
    "Ar = np.random.random((3,3,3))\n",
    "print(Ar)"
   ]
  },
  {
   "cell_type": "code",
   "execution_count": 15,
   "metadata": {},
   "outputs": [
    {
     "name": "stdout",
     "output_type": "stream",
     "text": [
      "[[9.96076452e-01 4.23692522e-01 3.65021709e-02 8.93855758e-02\n",
      "  3.97566622e-02 7.36668171e-01 7.41938748e-01 2.10430720e-01\n",
      "  9.59946359e-01 1.22118769e-01]\n",
      " [4.64244854e-01 9.85174894e-01 2.73043993e-01 2.35026571e-01\n",
      "  7.06867641e-01 6.40435835e-01 1.41890737e-01 2.51164781e-01\n",
      "  6.34748269e-01 7.73091352e-01]\n",
      " [9.75718713e-01 4.59155607e-01 2.98483240e-01 7.45303418e-01\n",
      "  2.76918327e-01 4.00780326e-01 7.00923461e-01 9.80056022e-01\n",
      "  6.05591374e-01 1.86803403e-01]\n",
      " [1.38392227e-01 8.89332698e-01 6.95344526e-01 3.33316376e-01\n",
      "  7.12974153e-01 6.87739299e-01 4.91513281e-01 8.26155380e-01\n",
      "  2.63023208e-01 2.48498952e-01]\n",
      " [3.44881361e-01 6.50937960e-01 8.98130019e-01 3.62947331e-01\n",
      "  6.78297786e-01 9.90449617e-01 2.40540919e-03 4.15236339e-01\n",
      "  8.49110367e-02 2.07880873e-01]\n",
      " [1.26648715e-02 4.52835785e-01 2.19796246e-01 5.73447046e-01\n",
      "  8.54279473e-01 1.23790828e-01 8.94032294e-02 5.99586936e-01\n",
      "  5.23630058e-02 7.20448366e-01]\n",
      " [4.14758557e-01 3.05469936e-01 1.90913869e-02 5.75931717e-01\n",
      "  3.44202376e-01 6.89268680e-01 6.11878919e-01 3.46587871e-01\n",
      "  9.70510645e-01 4.85521742e-01]\n",
      " [4.33846570e-01 8.00577242e-02 5.82111048e-01 6.96106996e-01\n",
      "  6.81689880e-01 1.05040574e-02 2.35705561e-01 7.20368540e-01\n",
      "  6.39290298e-01 9.23769378e-01]\n",
      " [7.54969256e-01 4.89550304e-01 7.84319164e-01 9.99067256e-01\n",
      "  4.15384687e-01 9.52367202e-01 5.68175172e-01 5.64005925e-01\n",
      "  3.14144571e-01 4.11546769e-01]\n",
      " [7.41826197e-01 4.29241185e-01 2.10322909e-01 9.40401122e-01\n",
      "  8.81828842e-01 4.22766939e-01 4.49101909e-02 6.59769538e-04\n",
      "  1.44959158e-01 4.90762116e-01]]\n",
      "0.0006597695376071577 0.9990672562407859\n"
     ]
    }
   ],
   "source": [
    "# Создать массив 10x10 со случайными значениями, найти минимум и максимум\n",
    "ar = np.random.random((10,10))\n",
    "print(ar)\n",
    "arMin, arMax = ar.min(), ar.max()\n",
    "print(arMin, arMax)"
   ]
  },
  {
   "cell_type": "code",
   "execution_count": 17,
   "metadata": {},
   "outputs": [
    {
     "name": "stdout",
     "output_type": "stream",
     "text": [
      "[0.20265264 0.44583381 0.48289883 0.25068668 0.71871917 0.19434365\n",
      " 0.18358075 0.77879305 0.11705681 0.16414427 0.08627921 0.18272969\n",
      " 0.70008523 0.75903736 0.4133692  0.66538673 0.30390018 0.80948029\n",
      " 0.96190447 0.43684901 0.12414889 0.96667161 0.52519574 0.08817832\n",
      " 0.49000637 0.59611817 0.97462337 0.65209972 0.41616936 0.51620693]\n",
      "0.4735716498353984\n"
     ]
    }
   ],
   "source": [
    "# Создать случайный вектор размера 30 и найти среднее значение всех элементов\n",
    "vec = np.random.random(30)\n",
    "print(vec)\n",
    "m = vec.mean()\n",
    "print(m)"
   ]
  },
  {
   "cell_type": "code",
   "execution_count": 19,
   "metadata": {},
   "outputs": [
    {
     "name": "stdout",
     "output_type": "stream",
     "text": [
      "[[1. 1. 1. 1. 1. 1. 1. 1. 1. 1.]\n",
      " [1. 0. 0. 0. 0. 0. 0. 0. 0. 1.]\n",
      " [1. 0. 0. 0. 0. 0. 0. 0. 0. 1.]\n",
      " [1. 0. 0. 0. 0. 0. 0. 0. 0. 1.]\n",
      " [1. 0. 0. 0. 0. 0. 0. 0. 0. 1.]\n",
      " [1. 0. 0. 0. 0. 0. 0. 0. 0. 1.]\n",
      " [1. 0. 0. 0. 0. 0. 0. 0. 0. 1.]\n",
      " [1. 0. 0. 0. 0. 0. 0. 0. 0. 1.]\n",
      " [1. 0. 0. 0. 0. 0. 0. 0. 0. 1.]\n",
      " [1. 1. 1. 1. 1. 1. 1. 1. 1. 1.]]\n"
     ]
    }
   ],
   "source": [
    "# Создать матрицу с 0 внутри, и 1 на границах\n",
    "Z = np.ones((10,10))\n",
    "Z[1:-1,1:-1] = 0\n",
    "print(Z)"
   ]
  },
  {
   "cell_type": "code",
   "execution_count": 20,
   "metadata": {},
   "outputs": [
    {
     "name": "stdout",
     "output_type": "stream",
     "text": [
      "nan\n",
      "False\n",
      "False\n",
      "nan\n",
      "False\n"
     ]
    }
   ],
   "source": [
    "# Выяснить результат следующих выражений\n",
    "Z = 0 * np.nan\n",
    "print(Z)\n",
    "Z = np.nan == np.nan\n",
    "print(Z)\n",
    "Z = np.inf > np.nan\n",
    "print(Z)\n",
    "Z = np.nan - np.nan\n",
    "print(Z)\n",
    "Z = 0.3 == 3 * 0.1\n",
    "print(Z)"
   ]
  },
  {
   "cell_type": "code",
   "execution_count": 22,
   "metadata": {},
   "outputs": [
    {
     "name": "stdout",
     "output_type": "stream",
     "text": [
      "[[0 0 0 0 0]\n",
      " [1 0 0 0 0]\n",
      " [0 2 0 0 0]\n",
      " [0 0 3 0 0]\n",
      " [0 0 0 4 0]]\n"
     ]
    }
   ],
   "source": [
    "# Создать 5x5 матрицу с 1,2,3,4 под диагональю\n",
    "# https://www.w3resource.com/numpy/array-creation/diag.php\n",
    "Z = np.diag(np.arange(1, 5), k=-1)\n",
    "print(Z)"
   ]
  },
  {
   "cell_type": "code",
   "execution_count": 23,
   "metadata": {},
   "outputs": [
    {
     "name": "stdout",
     "output_type": "stream",
     "text": [
      "[[0 1 0 1 0 1 0 1]\n",
      " [1 0 1 0 1 0 1 0]\n",
      " [0 1 0 1 0 1 0 1]\n",
      " [1 0 1 0 1 0 1 0]\n",
      " [0 1 0 1 0 1 0 1]\n",
      " [1 0 1 0 1 0 1 0]\n",
      " [0 1 0 1 0 1 0 1]\n",
      " [1 0 1 0 1 0 1 0]]\n"
     ]
    }
   ],
   "source": [
    "# Создать 8x8 матрицу и заполнить её в шахматном порядке\n",
    "Z = np.zeros((8,8), dtype=int)\n",
    "Z[1::2,::2] = 1\n",
    "Z[::2,1::2] = 1\n",
    "print(Z)"
   ]
  },
  {
   "cell_type": "code",
   "execution_count": null,
   "metadata": {},
   "outputs": [],
   "source": []
  }
 ],
 "metadata": {
  "kernelspec": {
   "display_name": "Python 3",
   "language": "python",
   "name": "python3"
  },
  "language_info": {
   "codemirror_mode": {
    "name": "ipython",
    "version": 3
   },
   "file_extension": ".py",
   "mimetype": "text/x-python",
   "name": "python",
   "nbconvert_exporter": "python",
   "pygments_lexer": "ipython3",
   "version": "3.7.0"
  }
 },
 "nbformat": 4,
 "nbformat_minor": 2
}
