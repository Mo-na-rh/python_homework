{
 "cells": [
  {
   "cell_type": "code",
   "execution_count": 1,
   "metadata": {},
   "outputs": [
    {
     "name": "stderr",
     "output_type": "stream",
     "text": [
      "UsageError: Line magic function `%mathplotlib` not found.\n"
     ]
    }
   ],
   "source": [
    "%mathplotlib inline"
   ]
  },
  {
   "cell_type": "code",
   "execution_count": 8,
   "metadata": {},
   "outputs": [],
   "source": [
    "from keras.datasets import mnist\n",
    "import matplotlib.pyplot as plt\n",
    "import matplotlib.image as mpimg\n",
    "import numpy as np\n",
    "import sys\n",
    "import scipy.special\n",
    "import scipy.ndimage\n",
    "import scipy.signal\n",
    "from random import *"
   ]
  },
  {
   "cell_type": "code",
   "execution_count": 9,
   "metadata": {},
   "outputs": [
    {
     "name": "stdout",
     "output_type": "stream",
     "text": [
      "Downloading data from https://s3.amazonaws.com/img-datasets/mnist.npz\n",
      "11493376/11490434 [==============================] - 31s 3us/step\n"
     ]
    }
   ],
   "source": [
    "(x_train, y_train),(x_test,y_test) = mnist.load_data()"
   ]
  },
  {
   "cell_type": "code",
   "execution_count": 32,
   "metadata": {},
   "outputs": [
    {
     "name": "stdout",
     "output_type": "stream",
     "text": [
      "8\n",
      "[[3.33115638e-02]\n",
      " [1.27247858e-04]\n",
      " [9.57799910e-04]\n",
      " [1.36008044e-04]\n",
      " [3.93954449e-04]\n",
      " [5.51389930e-03]\n",
      " [1.25517090e-03]\n",
      " [2.21946406e-04]\n",
      " [9.88253152e-01]\n",
      " [4.15539238e-02]]\n"
     ]
    },
    {
     "data": {
      "image/png": "[encoded data removed]",
      "text/plain": [
       "<Figure size 432x288 with 1 Axes>"
      ]
     },
     "metadata": {
      "needs_background": "light"
     },
     "output_type": "display_data"
    }
   ],
   "source": [
    "n=59999\n",
    "print(y_train[n])\n",
    "plt.imshow((255-x_train[n])/255, cmap = \"gray\")\n",
    "print(test(n))"
   ]
  },
  {
   "cell_type": "code",
   "execution_count": 26,
   "metadata": {},
   "outputs": [],
   "source": [
    "class MyNN:\n",
    "    def __init__(self, rate, inputs, hiddens, outputs):\n",
    "        self.i_count=inputs+1\n",
    "        self.h_count=hiddens\n",
    "        self.o_count=outputs\n",
    "        #Заполняем массивы весов рандомом\n",
    "        self.w_ih = np.random.normal(0.0, pow(self.h_count, -0.5),(self.h_count, self.i_count))\n",
    "        self.w_ho = np.random.normal(0.0, pow(self.o_count, -0.5),(self.o_count, self.h_count))\n",
    "        #learning rate and sigmoid\n",
    "        self.ir = rate\n",
    "        self.activation_function = lambda x: scipy.special.expit(x)\n",
    "        \n",
    "    def train(self, inputs_list, targets_list):\n",
    "        inputs_list = np.concatenate((inputs_list,[1]), axis = 0)\n",
    "        #вектор-столбцы входных данных и правильных ответов\n",
    "        inputs = np.array(inputs_list, ndmin=2).T\n",
    "        targets = np.array(targets_list, ndmin=2).T\n",
    "        #direct disappear\n",
    "        hid_results = self.activation_function(np.dot(self.w_ih, inputs))\n",
    "        out_results = self.activation_function(np.dot(self.w_ho, hid_results))\n",
    "        #output errors\n",
    "        out_errors = (targets - out_results)\n",
    "        #errors of hidden layer\n",
    "        hid_errors = np.dot(self.w_ho.T, out_errors)\n",
    "        #corrections for weights hidden - output\n",
    "        self.w_ho += self.ir * np.dot(out_errors*out_results*(1.0-out_results),np.transpose(hid_results))\n",
    "        #corrections for weights hidden - put\n",
    "        self.w_ih += self.ir * np.dot(hid_errors*hid_results*(1.0-hid_results),np.transpose(inputs))\n",
    "    def query(self, inputs_list):\n",
    "        inputs_list= np.concatenate((inputs_list,[1]), axis = 0)\n",
    "        #vector-column input data\n",
    "        inputs = np.array(inputs_list, ndmin=2).T\n",
    "        #direct disappear\n",
    "        hid_results = self.activation_function(np.dot(self.w_ih, inputs))\n",
    "        out_results = self.activation_function(np.dot(self.w_ho, hid_results))\n",
    "        return out_results\n",
    "    \n",
    "    def set_ir(self, rate):\n",
    "        self.ir = rate\n",
    "        \n",
    "        "
   ]
  },
  {
   "cell_type": "code",
   "execution_count": 27,
   "metadata": {},
   "outputs": [],
   "source": [
    "myNN = MyNN(0.1, 784, 100, 10)"
   ]
  },
  {
   "cell_type": "code",
   "execution_count": 28,
   "metadata": {},
   "outputs": [],
   "source": [
    "def train(n):\n",
    "    target = np.zeros(10)\n",
    "    target[y_train[n]] = 1\n",
    "    query = np.array(x_train[n]/255).reshape(784)\n",
    "    myNN.train(query, target)"
   ]
  },
  {
   "cell_type": "code",
   "execution_count": 29,
   "metadata": {},
   "outputs": [],
   "source": [
    "def test(n):\n",
    "    query = np.array(x_train[n]/255).reshape(784)\n",
    "    return myNN.query(query)\n",
    "    "
   ]
  },
  {
   "cell_type": "code",
   "execution_count": 30,
   "metadata": {},
   "outputs": [],
   "source": [
    "def epoh_train():\n",
    "    myNN.set_ir(0.1)\n",
    "    x_train_len = len(x_train)\n",
    "    for n in range(x_train_len):\n",
    "        train(n)\n",
    "        if (n%100==0):\n",
    "            sys.stdout.write(\"Row: %s\\r\" % n)\n",
    "            sys.stdout.flush()"
   ]
  },
  {
   "cell_type": "code",
   "execution_count": 31,
   "metadata": {},
   "outputs": [
    {
     "name": "stdout",
     "output_type": "stream",
     "text": [
      "Row: 59900\r"
     ]
    }
   ],
   "source": [
    "epoh_train()"
   ]
  },
  {
   "cell_type": "code",
   "execution_count": null,
   "metadata": {},
   "outputs": [],
   "source": []
  }
 ],
 "metadata": {
  "kernelspec": {
   "display_name": "Python 3",
   "language": "python",
   "name": "python3"
  },
  "language_info": {
   "codemirror_mode": {
    "name": "ipython",
    "version": 3
   },
   "file_extension": ".py",
   "mimetype": "text/x-python",
   "name": "python",
   "nbconvert_exporter": "python",
   "pygments_lexer": "ipython3",
   "version": "3.7.0"
  }
 },
 "nbformat": 4,
 "nbformat_minor": 2
}
