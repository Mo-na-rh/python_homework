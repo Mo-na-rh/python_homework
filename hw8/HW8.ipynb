{
 "cells": [
  {
   "cell_type": "code",
   "execution_count": 1,
   "metadata": {},
   "outputs": [],
   "source": [
    "import sys\n",
    "import numpy as np\n",
    "import pandas as pd"
   ]
  },
  {
   "cell_type": "code",
   "execution_count": 3,
   "metadata": {},
   "outputs": [
    {
     "name": "stdout",
     "output_type": "stream",
     "text": [
      "count    1000.000000\n",
      "mean        9.926540\n",
      "std         5.095422\n",
      "min        -5.474838\n",
      "25%         6.674582\n",
      "50%         9.862258\n",
      "75%        13.312649\n",
      "max        31.009622\n",
      "dtype: float64\n"
     ]
    }
   ],
   "source": [
    "# 1 Получить от объекта Series показатели описательной статистики \n",
    "state = np.random.RandomState(46)\n",
    " #mu, sigma, 1000\n",
    "s = pd.Series(state.normal(10, 5, 1000))\n",
    "pkz = s.describe()\n",
    "print(pkz)\n"
   ]
  },
  {
   "cell_type": "code",
   "execution_count": 5,
   "metadata": {},
   "outputs": [
    {
     "name": "stdout",
     "output_type": "stream",
     "text": [
      "g    4\n",
      "e    4\n",
      "x    4\n",
      "f    4\n",
      "c    3\n",
      "d    3\n",
      "a    2\n",
      "h    2\n",
      "i    1\n",
      "k    1\n",
      "v    1\n",
      "b    1\n",
      "dtype: int64\n"
     ]
    }
   ],
   "source": [
    "# 2 Узнать частоту уникальных элементов объекта Series (гистограмма)\n",
    "  \n",
    "data = 'abcdefghikxcv'\n",
    "len_series = 30\n",
    "s = pd.Series(np.take(list(data), np.random.randint(len(data), size=len_series)))\n",
    " \n",
    "# считаем число вхождений\n",
    "ans = s.value_counts()\n",
    " \n",
    "print(ans)"
   ]
  },
  {
   "cell_type": "code",
   "execution_count": 6,
   "metadata": {},
   "outputs": [
    {
     "name": "stdout",
     "output_type": "stream",
     "text": [
      "1    7\n",
      "3    3\n",
      "4    2\n",
      "2    1\n",
      "dtype: int64\n",
      "0         1\n",
      "1     Other\n",
      "2     Other\n",
      "3         1\n",
      "4     Other\n",
      "5         1\n",
      "6         1\n",
      "7         3\n",
      "8         3\n",
      "9         3\n",
      "10        1\n",
      "11        1\n",
      "12        1\n",
      "dtype: object\n"
     ]
    }
   ],
   "source": [
    "# 3 Заменить все элементы объекта Series на \"Other\", кроме двух наиболее часто встречающихся\n",
    " \n",
    "state = np.random.RandomState(48)\n",
    "s = pd.Series(state.randint(low=1, high=5, size=[13]))\n",
    "print(s.value_counts())\n",
    "s[~s.isin(s.value_counts().index[:2])] = 'Other'\n",
    "print(s)"
   ]
  },
  {
   "cell_type": "code",
   "execution_count": 8,
   "metadata": {},
   "outputs": [
    {
     "name": "stdout",
     "output_type": "stream",
     "text": [
      "Сумма всех \"вторников\" 26.445933373540363\n",
      "\n",
      "Средние значения по месяцам:\n",
      " 2019-01-31    0.425212\n",
      "2019-02-28    0.467279\n",
      "2019-03-31    0.454166\n",
      "2019-04-30    0.464844\n",
      "2019-05-31    0.398366\n",
      "2019-06-30    0.539214\n",
      "2019-07-31    0.608159\n",
      "2019-08-31    0.521100\n",
      "2019-09-30    0.506384\n",
      "2019-10-31    0.621802\n",
      "2019-11-30    0.581686\n",
      "2019-12-31    0.512756\n",
      "Freq: M, dtype: float64\n",
      "\n"
     ]
    }
   ],
   "source": [
    "# 4 Создать объект Series в индексах дата каждый день 2019 года, в значениях случайное значение\n",
    " \n",
    "# 1. Найти сумму всех вторников\n",
    "# 2. Для каждого месяца найти среднее значение\n",
    " \n",
    "dti = pd.date_range(start='2019-01-01', end='2019-12-31', freq='B') \n",
    "s = pd.Series(np.random.rand(len(dti)), index=dti)\n",
    " \n",
    "# 1\n",
    "ans1 = s[s.index.weekday == 2].sum()\n",
    "print('Сумма всех \"вторников\"', ans1)\n",
    "print()\n",
    " \n",
    "# 2\n",
    "ans2 = s.resample('M').mean()\n",
    "print('Средние значения по месяцам:\\n', ans2)\n",
    "print()"
   ]
  },
  {
   "cell_type": "code",
   "execution_count": 9,
   "metadata": {},
   "outputs": [
    {
     "name": "stdout",
     "output_type": "stream",
     "text": [
      "   0  1  2  3  4\n",
      "0  2  4  3  3  3\n",
      "1  9  4  7  6  8\n",
      "2  3  2  2  8  6\n",
      "3  1  8  7  2  2\n",
      "4  1  8  3  2  4\n",
      "5  3  3  3  6  2\n",
      "6  8  2  2  7  8\n"
     ]
    }
   ],
   "source": [
    "# 5 Преобразовать объект Series в DataFrame заданной формы (shape)\n",
    " \n",
    "s = pd.Series(np.random.randint(low=1, high=10, size=[35]))\n",
    " \n",
    "# преобразование в reshape\n",
    "r = (7, 5)\n",
    " \n",
    "if r[0] * r[1] != len(s):\n",
    "    sys.exit('не возможно применить reshape')\n",
    "    \n",
    "df = pd.DataFrame(s.values.reshape(r))\n",
    " \n",
    "print(df)"
   ]
  },
  {
   "cell_type": "code",
   "execution_count": 10,
   "metadata": {},
   "outputs": [
    {
     "name": "stdout",
     "output_type": "stream",
     "text": [
      "[2 4 5]\n",
      " \n",
      "Int64Index([2, 4, 5], dtype='int64')\n"
     ]
    },
    {
     "name": "stderr",
     "output_type": "stream",
     "text": [
      "c:\\program files\\python37\\lib\\site-packages\\numpy\\core\\fromnumeric.py:61: FutureWarning: Series.nonzero() is deprecated and will be removed in a future version.Use Series.to_numpy().nonzero() instead\n",
      "  return bound(*args, **kwds)\n"
     ]
    }
   ],
   "source": [
    "# 6 Найти индексы объекта Series кратные 3\n",
    " \n",
    "s = pd.Series(np.random.randint(low=1, high=10, size=[7]))\n",
    " \n",
    "# вариант 1\n",
    "ans1 = np.argwhere(s % 3==0).flatten()\n",
    "print(ans1)\n",
    "print(\" \") \n",
    "# вариант 2\n",
    "ans2 = s[s % 3 == 0].index\n",
    "print(ans2)"
   ]
  },
  {
   "cell_type": "code",
   "execution_count": 14,
   "metadata": {},
   "outputs": [
    {
     "name": "stdout",
     "output_type": "stream",
     "text": [
      "0     a\n",
      "4     e\n",
      "8     i\n",
      "14    o\n",
      "20    u\n",
      "10    k\n",
      "dtype: object\n",
      " \n",
      "0     a\n",
      "4     e\n",
      "8     i\n",
      "14    o\n",
      "20    u\n",
      "10    k\n",
      "dtype: object\n"
     ]
    }
   ],
   "source": [
    "# 7 Получить данные по индексам объекта Series\n",
    " \n",
    "s = pd.Series(list('abcdefghijklmnopqrstuvwxyz'))\n",
    "p = [0, 4, 8, 14, 20, 10]\n",
    " \n",
    "# вариант 1\n",
    "ans1 = s[p]\n",
    "print(ans1)\n",
    "print(\" \") \n",
    "# вариант 2 \n",
    "ans2 = s.take(p)\n",
    "print(ans2)"
   ]
  },
  {
   "cell_type": "code",
   "execution_count": 15,
   "metadata": {},
   "outputs": [
    {
     "name": "stdout",
     "output_type": "stream",
     "text": [
      "0    0\n",
      "1    1\n",
      "2    2\n",
      "3    3\n",
      "4    4\n",
      "0    a\n",
      "1    b\n",
      "2    c\n",
      "3    d\n",
      "4    e\n",
      "dtype: object\n",
      " \n",
      "   0  1\n",
      "0  0  a\n",
      "1  1  b\n",
      "2  2  c\n",
      "3  3  d\n",
      "4  4  e\n"
     ]
    }
   ],
   "source": [
    "# 8 Объединить два объекта Series вертикально и горизонтально\n",
    " \n",
    "s1 = pd.Series(range(5))\n",
    "s2 = pd.Series(list('abcde'))\n",
    " \n",
    "ans_vertical = s1.append(s2)\n",
    "ans_horizontal = pd.concat([s1, s2], axis=1)\n",
    " \n",
    "print(ans_vertical)\n",
    "print(\" \") \n",
    "print(ans_horizontal)"
   ]
  },
  {
   "cell_type": "code",
   "execution_count": 16,
   "metadata": {},
   "outputs": [
    {
     "name": "stdout",
     "output_type": "stream",
     "text": [
      "[3 0 6 2]\n",
      "[3 0 6 2]\n",
      "[0 2 3 6]\n"
     ]
    }
   ],
   "source": [
    "# 9 Получить индексы объекта Series A, данные которых содержатся в объелте Series B\n",
    " \n",
    "s1 = pd.Series([5, 34, 2, 1, 4, 11, 13, 8, 7])\n",
    "s2 = pd.Series([1, 5, 13, 2])\n",
    " \n",
    "# вариант 1 (медленный)\n",
    "ans1 = np.asarray([np.where(i == s1)[0].tolist()[0] for i in s2])\n",
    "print(ans1)\n",
    " \n",
    "# вариант 2 (медленный)\n",
    "ans2 = np.asarray([pd.Index(s1).get_loc(i) for i in s2])\n",
    "print(ans2)\n",
    " \n",
    "# вариант 3 (быстрый)\n",
    "ans3 = np.argwhere(s1.isin(s2)).flatten()\n",
    "print(ans3)"
   ]
  },
  {
   "cell_type": "code",
   "execution_count": 18,
   "metadata": {},
   "outputs": [
    {
     "name": "stdout",
     "output_type": "stream",
     "text": [
      "0    9\n",
      "1    1\n",
      "2    2\n",
      "3    8\n",
      "4    3\n",
      "5    6\n",
      "6    5\n",
      "dtype: int64\n",
      " \n",
      "0    7\n",
      "1    4\n",
      "2    3\n",
      "3    5\n",
      "4    9\n",
      "5    8\n",
      "6    2\n",
      "dtype: int64\n"
     ]
    }
   ],
   "source": [
    "# 10 Получить объект Series B, который содержит элементы без повторений объекта A\n",
    " \n",
    "s = pd.Series(np.random.randint(low=1, high=10, size=[10]))\n",
    "print(ans)\n",
    "print(\" \")\n",
    "ans = pd.Series(s.unique())\n",
    "print(ans)"
   ]
  },
  {
   "cell_type": "code",
   "execution_count": 20,
   "metadata": {},
   "outputs": [
    {
     "name": "stdout",
     "output_type": "stream",
     "text": [
      "0         Life\n",
      "1           Is\n",
      "2    Beautiful\n",
      "dtype: object\n",
      " \n",
      "0         Life\n",
      "1           Is\n",
      "2    Beautiful\n",
      "dtype: object\n"
     ]
    }
   ],
   "source": [
    "# 11 Преобразовать каждый символ объекта Series в верхний регистр\n",
    " \n",
    "s = pd.Series(['life', 'is', 'beautiful'])\n",
    " \n",
    "# преобразование данных Series в строку\n",
    "s = pd.Series(str(i) for i in s)\n",
    " \n",
    "# вариант 1\n",
    "ans1 = s.map(lambda x: x.title())\n",
    "print(ans1)\n",
    "print(\" \") \n",
    "# вариант 2\n",
    "ans2 = pd.Series(i.title() for i in s)\n",
    "print(ans2)"
   ]
  },
  {
   "cell_type": "code",
   "execution_count": 21,
   "metadata": {},
   "outputs": [
    {
     "name": "stdout",
     "output_type": "stream",
     "text": [
      "0      one\n",
      "1      two\n",
      "2    three\n",
      "3     four\n",
      "4     five\n",
      "dtype: object\n",
      " \n",
      "[3 3 5 4 4]\n",
      " \n",
      "[3 3 5 4 4]\n"
     ]
    }
   ],
   "source": [
    "# 12 Рассчитать количество символов в объекте Series\n",
    " \n",
    "s = pd.Series(['one', 'two', 'three', 'four', 'five'])\n",
    "\n",
    "# преобразование в строковый тип\n",
    "s = pd.Series(str(i) for i in s)\n",
    "print(s)\n",
    "print(\" \")\n",
    "# вариант 1\n",
    "ans1 = np.asarray(s.map(lambda x: len(x)))\n",
    "print(ans1)\n",
    "print(\" \") \n",
    "# вариант 2\n",
    "ans2 = np.asarray([len(i) for i in s])\n",
    "print(ans2)"
   ]
  },
  {
   "cell_type": "code",
   "execution_count": 22,
   "metadata": {},
   "outputs": [
    {
     "name": "stdout",
     "output_type": "stream",
     "text": [
      "0    NaN\n",
      "1    4.0\n",
      "2    2.0\n",
      "3    1.0\n",
      "4    4.0\n",
      "5    3.0\n",
      "6    2.0\n",
      "dtype: float64\n"
     ]
    }
   ],
   "source": [
    "# 13 Найти разность между объектом Series и смещением объекта Series на n\n",
    " \n",
    "n = 1\n",
    " \n",
    "s = pd.Series([1, 5, 7, 8, 12, 15, 17])\n",
    " \n",
    "ans = s.diff(periods=n)\n",
    " \n",
    "print(ans)"
   ]
  },
  {
   "cell_type": "code",
   "execution_count": 23,
   "metadata": {},
   "outputs": [
    {
     "name": "stdout",
     "output_type": "stream",
     "text": [
      "0   2017-01-01\n",
      "1   2015-02-02\n",
      "2   2019-01-15\n",
      "dtype: datetime64[ns]\n"
     ]
    }
   ],
   "source": [
    "# 14 Преобразовать разыне форматы строк объекта Series в дату\n",
    " \n",
    "s = pd.Series(['2017/01/01', '2015-02-02', '15 Jan 2019'])\n",
    " \n",
    "ans = pd.to_datetime(s)\n",
    " \n",
    "print(ans)"
   ]
  },
  {
   "cell_type": "code",
   "execution_count": 24,
   "metadata": {},
   "outputs": [
    {
     "name": "stdout",
     "output_type": "stream",
     "text": [
      "0   2019-02-14\n",
      "1   2019-01-22\n",
      "2   2019-03-01\n",
      "dtype: datetime64[ns]\n"
     ]
    }
   ],
   "source": [
    "#15 все данные должны иметь одинаковый формат (часто бывает выгрузка из SQL)\n",
    "s = pd.Series(['14.02.2019', '22.01.2019', '01.03.2019'])\n",
    " \n",
    "# преобразование в дату\n",
    "ans = pd.to_datetime(s, format='%d.%m.%Y')\n",
    " \n",
    "print(ans)"
   ]
  },
  {
   "cell_type": "code",
   "execution_count": 26,
   "metadata": {},
   "outputs": [
    {
     "name": "stdout",
     "output_type": "stream",
     "text": [
      "0    2019\n",
      "1    2011\n",
      "2    2012\n",
      "3    2013\n",
      "4    2018\n",
      "dtype: int64\n",
      "0     1\n",
      "1     2\n",
      "2     3\n",
      "3     4\n",
      "4    12\n",
      "dtype: int64\n",
      "0     1\n",
      "1     2\n",
      "2     3\n",
      "3     4\n",
      "4    31\n",
      "dtype: int64\n",
      "0     1\n",
      "1     5\n",
      "2     9\n",
      "3    14\n",
      "4     1\n",
      "dtype: int64\n",
      "0      1\n",
      "1     33\n",
      "2     63\n",
      "3     94\n",
      "4    365\n",
      "dtype: int64\n"
     ]
    }
   ],
   "source": [
    "# 16 Получить год, месяц, день, день недели, номер дня в году от объекта Series (string)\n",
    " \n",
    "from dateutil.parser import parse\n",
    " \n",
    "s = pd.Series(['01 Jan 2019', '02-02-2011', '20120303', '2013/04/04', '2018-12-31'])\n",
    " \n",
    "# парсим в дату и время\n",
    "s_ts = s.map(lambda x: parse(x, yearfirst=True))\n",
    " \n",
    "# получаем года\n",
    "print(s_ts.dt.year)\n",
    " \n",
    "# получаем месяца\n",
    "print(s_ts.dt.month)\n",
    " \n",
    "# получаем дни\n",
    "print(s_ts.dt.day)\n",
    " \n",
    "# получаем номер недели\n",
    "print(s_ts.dt.weekofyear)\n",
    " \n",
    "# получаем номер дня в году\n",
    "print(s_ts.dt.dayofyear)"
   ]
  },
  {
   "cell_type": "code",
   "execution_count": 27,
   "metadata": {},
   "outputs": [
    {
     "name": "stdout",
     "output_type": "stream",
     "text": [
      "0      Яблоко\n",
      "1      Orange\n",
      "4    Апельсин\n",
      "6    Reliance\n",
      "dtype: object\n"
     ]
    }
   ],
   "source": [
    "# 17 Отобрать элементы объекта Series, кторые содержат не менее двух гласных\n",
    " \n",
    "from collections import Counter\n",
    " \n",
    "s = pd.Series(['Яблоко', 'Orange', 'Plan', 'Python', 'Апельсин', 'Стол', 'Reliance'])\n",
    "mask = s.map(lambda x: sum([Counter(x.lower()).get(i, 0) for i in list('aeiouаоиеёэыуюя')]) >= 2)\n",
    "ans = s[mask]\n",
    "print(ans)"
   ]
  },
  {
   "cell_type": "code",
   "execution_count": 28,
   "metadata": {},
   "outputs": [
    {
     "name": "stdout",
     "output_type": "stream",
     "text": [
      "1    test@mail.ru\n",
      "dtype: object\n"
     ]
    }
   ],
   "source": [
    "# 18 Отобрать e-маилы из объекта Series\n",
    " \n",
    "import re\n",
    " \n",
    "emails = pd.Series(['test text @test.com', 'test@mail.ru', 'test.2ru', 'test@pp'])\n",
    "pattern = '[A-Za-z0-9._%+-]+@[A-Za-z0-9.-]+\\\\.[A-Za-z]{2,4}'\n",
    "mask = emails.map(lambda x: bool(re.match(pattern, x)))\n",
    "ans = emails[mask]\n",
    "print(ans)"
   ]
  },
  {
   "cell_type": "code",
   "execution_count": 29,
   "metadata": {},
   "outputs": [
    {
     "name": "stdout",
     "output_type": "stream",
     "text": [
      "bird     4.0\n",
      "cat      6.5\n",
      "dog      6.0\n",
      "horse    5.0\n",
      "dtype: float64\n"
     ]
    }
   ],
   "source": [
    "# 19 Получить среднее значение каждого уникального объекта Series s1 через \"маску\" другого объекта Series s2\n",
    "n = 10\n",
    "s1 = pd.Series(np.random.choice(['dog', 'cat', 'horse', 'bird'], n))\n",
    "s2 = pd.Series(np.linspace(1,n,n))\n",
    "ans = s2.groupby(s1).mean()\n",
    "print(ans)"
   ]
  },
  {
   "cell_type": "code",
   "execution_count": null,
   "metadata": {},
   "outputs": [],
   "source": []
  }
 ],
 "metadata": {
  "kernelspec": {
   "display_name": "Python 3",
   "language": "python",
   "name": "python3"
  },
  "language_info": {
   "codemirror_mode": {
    "name": "ipython",
    "version": 3
   },
   "file_extension": ".py",
   "mimetype": "text/x-python",
   "name": "python",
   "nbconvert_exporter": "python",
   "pygments_lexer": "ipython3",
   "version": "3.7.0"
  }
 },
 "nbformat": 4,
 "nbformat_minor": 2
}
