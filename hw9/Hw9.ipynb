{
 "cells": [
  {
   "cell_type": "code",
   "execution_count": 2,
   "metadata": {},
   "outputs": [],
   "source": [
    "import sys\n",
    "import numpy as np\n",
    "import pandas as pd"
   ]
  },
  {
   "cell_type": "code",
   "execution_count": 4,
   "metadata": {},
   "outputs": [
    {
     "name": "stdout",
     "output_type": "stream",
     "text": [
      "9.1104335791443\n",
      " \n",
      "9.1104335791443\n"
     ]
    }
   ],
   "source": [
    "# 1 Найти евклидово расстояние между двумя объектами Series\n",
    "# расстояние между двумя точками евклидова пространства, вычисляемое по теореме Пифагора.\n",
    "n = 3 \n",
    "s1 = pd.Series(np.random.randint(low=1, high=10, size=[n]))\n",
    "s2 = pd.Series(np.random.randint(low=1, high=10, size=[n]))\n",
    " \n",
    "ans = np.linalg.norm(s1-s2)\n",
    "ans2 = sum((s1-s2)**2)**0.5\n",
    "print(ans2)\n",
    "print(\" \")\n",
    "print(ans)"
   ]
  },
  {
   "cell_type": "code",
   "execution_count": 8,
   "metadata": {},
   "outputs": [
    {
     "name": "stdout",
     "output_type": "stream",
     "text": [
      "[ 0  0 -2  0  2 -2  2 -2  2]\n",
      " \n",
      "[3 6 8]\n"
     ]
    }
   ],
   "source": [
    "# 2 Найти индексы локальных максимумов в объекте Series\n",
    " \n",
    "s = pd.Series([1, 5, 7, 11, 8, 4, 12, 5, 8, 16, 8])\n",
    "arr = np.diff(np.sign(np.diff(s)))\n",
    "print(arr)\n",
    "print(\" \")\n",
    "ans = np.where(arr == -2)[0] + 1\n",
    "print(ans) # numbers 11, 12, 16"
   ]
  },
  {
   "cell_type": "code",
   "execution_count": 9,
   "metadata": {},
   "outputs": [
    {
     "name": "stdout",
     "output_type": "stream",
     "text": [
      "0     b\n",
      "1     n\n",
      "2     b\n",
      "3      \n",
      "4     b\n",
      "5     e\n",
      "6     r\n",
      "7      \n",
      "8     k\n",
      "9     e\n",
      "10    k\n",
      "11    b\n",
      "12     \n",
      "13    d\n",
      "14    a\n",
      "15    r\n",
      "16    e\n",
      "dtype: object\n",
      " \n"
     ]
    },
    {
     "data": {
      "text/plain": [
       "'bnbaberakekbadare'"
      ]
     },
     "execution_count": 9,
     "metadata": {},
     "output_type": "execute_result"
    }
   ],
   "source": [
    "# 3 Заменить пробелы наименее часто встречающимся символом\n",
    " \n",
    "str_test = 'bnb ber kekb dare'\n",
    " \n",
    "s = pd.Series(list(str_test))\n",
    "print(s)\n",
    "print(\" \")\n",
    "freq = s.value_counts()\n",
    "least_freq = freq.dropna().index[-1]\n",
    "''.join(s.replace(' ', least_freq))"
   ]
  },
  {
   "cell_type": "code",
   "execution_count": 15,
   "metadata": {},
   "outputs": [
    {
     "name": "stdout",
     "output_type": "stream",
     "text": [
      "2019-01-05    6\n",
      "2019-01-12    8\n",
      "2019-01-19    9\n",
      "2019-01-26    8\n",
      "2019-02-02    4\n",
      "2019-02-09    5\n",
      "2019-02-16    6\n",
      "2019-02-23    6\n",
      "2019-03-02    4\n",
      "2019-03-09    5\n",
      "Freq: W-SAT, dtype: int32\n"
     ]
    }
   ],
   "source": [
    "# 4 Создать объект Series, который содержит в индексах даты выходных дней субботы,\n",
    "# а в значениях случайные числа от 1 до 10\n",
    " \n",
    "s = pd.Series(np.random.randint(low=1,high=10,size=[10]), pd.date_range('2019-01-01', periods=10, freq='W-SAT'))\n",
    "print(s)"
   ]
  },
  {
   "cell_type": "code",
   "execution_count": 16,
   "metadata": {},
   "outputs": [
    {
     "name": "stdout",
     "output_type": "stream",
     "text": [
      "2018-01-01    2.0\n",
      "2018-01-02    2.0\n",
      "2018-01-03    5.0\n",
      "2018-01-04    5.0\n",
      "2018-01-05    5.0\n",
      "2018-01-06    8.0\n",
      "2018-01-07    8.0\n",
      "2018-01-08    NaN\n",
      "Freq: D, dtype: float64\n"
     ]
    }
   ],
   "source": [
    "# 5 Заполнить пропущенные даты, значением выше (заполненной даты)\n",
    " \n",
    "s = pd.Series([2, 5, 8, np.nan], index=pd.to_datetime(['2018-01-01', '2018-01-03', '2018-01-06', '2018-01-08']))\n",
    "# заполнить предыдущими значениями\n",
    "ans = s.resample('D').ffill()\n",
    "# заполнить последующими значениями\n",
    "ans2 = s.resample('D').bfill()\n",
    "print(ans)"
   ]
  },
  {
   "cell_type": "code",
   "execution_count": 17,
   "metadata": {},
   "outputs": [
    {
     "name": "stdout",
     "output_type": "stream",
     "text": [
      "[1.0, 0.81, 0.83, 0.79, 0.73, 0.63, 0.72, 0.62, 0.68, 0.64, 0.77, 0.69, 0.74, 0.72, 0.39, 0.45, -0.61, -0.11, 1.0, nan]\n"
     ]
    },
    {
     "name": "stderr",
     "output_type": "stream",
     "text": [
      "c:\\program files\\python37\\lib\\site-packages\\numpy\\lib\\function_base.py:2526: RuntimeWarning: Degrees of freedom <= 0 for slice\n",
      "  c = cov(x, y, rowvar)\n",
      "c:\\program files\\python37\\lib\\site-packages\\numpy\\lib\\function_base.py:2455: RuntimeWarning: divide by zero encountered in true_divide\n",
      "  c *= np.true_divide(1, fact)\n"
     ]
    }
   ],
   "source": [
    "# 6 Вычислить автокорреляцию объекта Series\n",
    " \n",
    "n = 20\n",
    " \n",
    "s = pd.Series(np.arange(n))\n",
    "s = s + np.random.normal(1, 3, n)\n",
    " \n",
    "autocorr = [s.autocorr(lag=i).round(2) for i in range(n)]\n",
    " \n",
    "print(autocorr)"
   ]
  },
  {
   "cell_type": "code",
   "execution_count": 2,
   "metadata": {},
   "outputs": [],
   "source": [
    "import sys\n",
    "import pandas as pd\n",
    "import numpy as np\n",
    "import random\n",
    "import matplotlib.pyplot as plt"
   ]
  },
  {
   "cell_type": "code",
   "execution_count": 5,
   "metadata": {},
   "outputs": [
    {
     "name": "stdout",
     "output_type": "stream",
     "text": [
      "     PassengerId  Survived  Pclass  \\\n",
      "0              1         0       3   \n",
      "1              2         1       1   \n",
      "2              3         1       3   \n",
      "3              4         1       1   \n",
      "4              5         0       3   \n",
      "..           ...       ...     ...   \n",
      "886          887         0       2   \n",
      "887          888         1       1   \n",
      "888          889         0       3   \n",
      "889          890         1       1   \n",
      "890          891         0       3   \n",
      "\n",
      "                                                  Name     Sex   Age  SibSp  \\\n",
      "0                              Braund, Mr. Owen Harris    male  22.0      1   \n",
      "1    Cumings, Mrs. John Bradley (Florence Briggs Th...  female  38.0      1   \n",
      "2                               Heikkinen, Miss. Laina  female  26.0      0   \n",
      "3         Futrelle, Mrs. Jacques Heath (Lily May Peel)  female  35.0      1   \n",
      "4                             Allen, Mr. William Henry    male  35.0      0   \n",
      "..                                                 ...     ...   ...    ...   \n",
      "886                              Montvila, Rev. Juozas    male  27.0      0   \n",
      "887                       Graham, Miss. Margaret Edith  female  19.0      0   \n",
      "888           Johnston, Miss. Catherine Helen \"Carrie\"  female   NaN      1   \n",
      "889                              Behr, Mr. Karl Howell    male  26.0      0   \n",
      "890                                Dooley, Mr. Patrick    male  32.0      0   \n",
      "\n",
      "     Parch            Ticket     Fare Cabin Embarked  \n",
      "0        0         A/5 21171   7.2500   NaN        S  \n",
      "1        0          PC 17599  71.2833   C85        C  \n",
      "2        0  STON/O2. 3101282   7.9250   NaN        S  \n",
      "3        0            113803  53.1000  C123        S  \n",
      "4        0            373450   8.0500   NaN        S  \n",
      "..     ...               ...      ...   ...      ...  \n",
      "886      0            211536  13.0000   NaN        S  \n",
      "887      0            112053  30.0000   B42        S  \n",
      "888      2        W./C. 6607  23.4500   NaN        S  \n",
      "889      0            111369  30.0000  C148        C  \n",
      "890      0            370376   7.7500   NaN        Q  \n",
      "\n",
      "[891 rows x 12 columns]\n"
     ]
    }
   ],
   "source": [
    "# 7 Прочитать файл CSV и перевести его в DataFrame\n",
    " \n",
    "df = pd.read_csv('https://raw.githubusercontent.com/Grossmend/CSV/master/titanic/data.csv')\n",
    "print(df)"
   ]
  },
  {
   "cell_type": "code",
   "execution_count": 6,
   "metadata": {},
   "outputs": [
    {
     "name": "stdout",
     "output_type": "stream",
     "text": [
      "   Survived                                               Name     Sex\n",
      "0         0                            Braund, Mr. Owen Harris    male\n",
      "1         1  Cumings, Mrs. John Bradley (Florence Briggs Th...  female\n",
      "2         1                             Heikkinen, Miss. Laina  female\n",
      "3         1       Futrelle, Mrs. Jacques Heath (Lily May Peel)  female\n",
      "4         0                           Allen, Mr. William Henry    male\n",
      "5         0                                   Moran, Mr. James    male\n",
      "6         0                            McCarthy, Mr. Timothy J    male\n",
      "7         0                     Palsson, Master. Gosta Leonard    male\n",
      "8         1  Johnson, Mrs. Oscar W (Elisabeth Vilhelmina Berg)  female\n",
      "9         1                Nasser, Mrs. Nicholas (Adele Achem)  female\n"
     ]
    }
   ],
   "source": [
    "# 8 Прочитать файл CSV (определенные столбцы и определенное кол-во строк) и перевести его в DataFrame\n",
    " \n",
    "df = pd.read_csv('https://raw.githubusercontent.com/Grossmend/CSV/master/titanic/data.csv', nrows=10, usecols=['Name', 'Sex', 'Survived'])\n",
    "print(df)"
   ]
  },
  {
   "cell_type": "code",
   "execution_count": 7,
   "metadata": {},
   "outputs": [
    {
     "name": "stdout",
     "output_type": "stream",
     "text": [
      "      Age    Cabin Embarked      Fare  \\\n",
      "0    22.0      NaN        S    7.2500   \n",
      "100  28.0      NaN        S    7.8958   \n",
      "200  28.0      NaN        S    9.5000   \n",
      "300   NaN      NaN        Q    7.7500   \n",
      "400  39.0      NaN        S    7.9250   \n",
      "500  17.0      NaN        S    8.6625   \n",
      "600  24.0      NaN        S   27.0000   \n",
      "700  18.0  C62 C64        C  227.5250   \n",
      "800  34.0      NaN        S   13.0000   \n",
      "\n",
      "                                                  Name  Parch  PassengerId  \\\n",
      "0                              Braund, Mr. Owen Harris    0.0          1.0   \n",
      "100                            Petranec, Miss. Matilda    0.0        101.0   \n",
      "200                     Vande Walle, Mr. Nestor Cyriel    0.0        201.0   \n",
      "300           Kelly, Miss. Anna Katherine \"Annie Kate\"    0.0        301.0   \n",
      "400                                 Niskanen, Mr. Juha    0.0        401.0   \n",
      "500                                   Calic, Mr. Petar    0.0        501.0   \n",
      "600  Jacobsohn, Mrs. Sidney Samuel (Amy Frances Chr...    1.0        601.0   \n",
      "700  Astor, Mrs. John Jacob (Madeleine Talmadge Force)    0.0        701.0   \n",
      "800                               Ponesell, Mr. Martin    0.0        801.0   \n",
      "\n",
      "     Pclass     Sex  SibSp  Survived             Ticket  \n",
      "0       3.0    male    1.0       0.0          A/5 21171  \n",
      "100     3.0  female    0.0       0.0             349245  \n",
      "200     3.0    male    0.0       0.0             345770  \n",
      "300     3.0  female    0.0       1.0               9234  \n",
      "400     3.0    male    0.0       1.0  STON/O 2. 3101289  \n",
      "500     3.0    male    0.0       0.0             315086  \n",
      "600     2.0  female    2.0       1.0             243847  \n",
      "700     1.0  female    1.0       1.0           PC 17757  \n",
      "800     2.0    male    0.0       0.0             250647  \n"
     ]
    }
   ],
   "source": [
    "# 9 Прочитать файл CSV и перевести каждую 100-ую строку в DataFrame\n",
    " \n",
    "df = pd.read_csv('https://raw.githubusercontent.com/Grossmend/CSV/master/titanic/data.csv', chunksize=100)\n",
    "df_each = pd.DataFrame()\n",
    "for chunk in df:\n",
    "    df_each = df_each.append(chunk.iloc[0,:])\n",
    "print(df_each)"
   ]
  },
  {
   "cell_type": "code",
   "execution_count": 8,
   "metadata": {},
   "outputs": [
    {
     "name": "stdout",
     "output_type": "stream",
     "text": [
      "a    0\n",
      "b    1\n",
      "c    2\n",
      "e    3\n",
      "d    4\n",
      "f    5\n",
      "dtype: int64\n",
      " \n",
      "  index  0\n",
      "0     a  0\n",
      "1     b  1\n",
      "2     c  2\n",
      "3     e  3\n",
      "4     d  4\n",
      "5     f  5\n",
      " \n",
      "  letter  number\n",
      "0      a       0\n",
      "1      b       1\n",
      "2      c       2\n",
      "3      e       3\n",
      "4      d       4\n",
      "5      f       5\n"
     ]
    }
   ],
   "source": [
    "# 10 Преобразовать индексы объекта Series в столбец DataFrame\n",
    " \n",
    "test_list = 'abcedf'\n",
    "test_arr = np.arange(len(test_list))\n",
    "test_dict = dict(zip(test_list, test_arr))\n",
    "s = pd.Series(test_dict)\n",
    "print(s)\n",
    "print(\" \")\n",
    "# сбрасываем индексы\n",
    "df = s.to_frame().reset_index()\n",
    "print(df)\n",
    "print(\" \")\n",
    "# присвоение имён столбцам\n",
    "df.columns=['letter', 'number']\n",
    "print(df)"
   ]
  },
  {
   "cell_type": "code",
   "execution_count": 9,
   "metadata": {},
   "outputs": [
    {
     "name": "stdout",
     "output_type": "stream",
     "text": [
      "\n",
      " Формат столбцов:\n",
      "PassengerId      int64\n",
      "Survived         int64\n",
      "Pclass           int64\n",
      "Name            object\n",
      "Sex             object\n",
      "Age            float64\n",
      "SibSp            int64\n",
      "Parch            int64\n",
      "Ticket          object\n",
      "Fare           float64\n",
      "Cabin           object\n",
      "Embarked        object\n",
      "dtype: object\n",
      "\n",
      " Размерность:\n",
      "(10, 12)\n",
      "\n",
      " Общая статистика\n",
      "       PassengerId   Survived     Pclass        Age      SibSp      Parch  \\\n",
      "count     10.00000  10.000000  10.000000   9.000000  10.000000  10.000000   \n",
      "mean       5.50000   0.500000   2.300000  28.111111   0.700000   0.300000   \n",
      "std        3.02765   0.527046   0.948683  14.945271   0.948683   0.674949   \n",
      "min        1.00000   0.000000   1.000000   2.000000   0.000000   0.000000   \n",
      "25%        3.25000   0.000000   1.250000  22.000000   0.000000   0.000000   \n",
      "50%        5.50000   0.500000   3.000000  27.000000   0.500000   0.000000   \n",
      "75%        7.75000   1.000000   3.000000  35.000000   1.000000   0.000000   \n",
      "max       10.00000   1.000000   3.000000  54.000000   3.000000   2.000000   \n",
      "\n",
      "            Fare  \n",
      "count  10.000000  \n",
      "mean   27.020820  \n",
      "std    23.601938  \n",
      "min     7.250000  \n",
      "25%     8.152075  \n",
      "50%    16.104150  \n",
      "75%    46.414575  \n",
      "max    71.283300  \n"
     ]
    }
   ],
   "source": [
    "# 11 Посмотреть информацию объекта DataFrame\n",
    " \n",
    "df = pd.read_csv('https://raw.githubusercontent.com/Grossmend/CSV/master/titanic/data.csv', nrows=10)\n",
    " \n",
    "# Формат каждого столбца\n",
    "print('\\n', 'Формат столбцов:')\n",
    "print(df.dtypes)\n",
    " \n",
    "# Размерность DataFrame\n",
    "print('\\n', 'Размерность:')\n",
    "print(df.shape)\n",
    " \n",
    "# Общая статистика\n",
    "print('\\n', 'Общая статистика')\n",
    "print(df.describe())"
   ]
  },
  {
   "cell_type": "code",
   "execution_count": null,
   "metadata": {},
   "outputs": [],
   "source": []
  }
 ],
 "metadata": {
  "kernelspec": {
   "display_name": "Python 3",
   "language": "python",
   "name": "python3"
  },
  "language_info": {
   "codemirror_mode": {
    "name": "ipython",
    "version": 3
   },
   "file_extension": ".py",
   "mimetype": "text/x-python",
   "name": "python",
   "nbconvert_exporter": "python",
   "pygments_lexer": "ipython3",
   "version": "3.7.0"
  }
 },
 "nbformat": 4,
 "nbformat_minor": 2
}
